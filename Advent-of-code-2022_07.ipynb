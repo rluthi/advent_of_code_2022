{
 "cells": [
  {
   "cell_type": "markdown",
   "id": "522234a6-8699-46ea-8b23-1de590cf3dc8",
   "metadata": {},
   "source": [
    "# Advent of code 2022 - 07"
   ]
  },
  {
   "cell_type": "code",
   "execution_count": 1,
   "id": "29fadd33-c755-47da-b9dc-fdb40f90842c",
   "metadata": {},
   "outputs": [],
   "source": [
    "import re\n",
    "\n",
    "from utils import read_txt_file"
   ]
  },
  {
   "cell_type": "markdown",
   "id": "08c9cf4b-e4cc-41a6-ba5c-049a014aa575",
   "metadata": {},
   "source": [
    "## Code"
   ]
  },
  {
   "cell_type": "code",
   "execution_count": 24,
   "id": "d39f1c44-e017-4a2e-81ee-27db8c054c99",
   "metadata": {},
   "outputs": [],
   "source": [
    "class FileSystem:\n",
    "    def __init__(self, debug: bool = False):\n",
    "        self.debug = debug\n",
    "\n",
    "        self.current_dir = \"/\"\n",
    "        self.parents = {\"/\": None}\n",
    "        self.children = {\"/\": []}\n",
    "        self.total_file_sizes = {\"/\": 0}  # Only files in this diretory\n",
    "\n",
    "        self.total_dir_sizes = dict()  # All files and subdiretories\n",
    "\n",
    "    def execute(self, command: str):\n",
    "        if self.debug:\n",
    "            print(f\"Executing >> '{command}'\")\n",
    "\n",
    "        if command[:2] == \"cd\":\n",
    "            self.run_change_directory(command)\n",
    "        elif command[:2] == \"ls\":\n",
    "            self.run_list(command)\n",
    "        else:\n",
    "            raise ValueError(f\"Wrong command prefix: '{command[:2]}'\")\n",
    "\n",
    "    def run_change_directory(self, command):\n",
    "        move_to = re.search(\"(?<=cd )\\S+\", command).group(0)\n",
    "        if move_to == \"..\":\n",
    "            self.current_dir = self.parents[self.current_dir]\n",
    "        elif move_to == \"/\":\n",
    "            self.current_dir = \"/\"\n",
    "        else:\n",
    "            if self.current_dir == \"/\":\n",
    "                self.current_dir = f\"/{move_to}\"\n",
    "            else:\n",
    "                self.current_dir = f\"{self.current_dir}/{move_to}\"\n",
    "\n",
    "        if self.debug:\n",
    "            print(f\"-> Changed to new directory: {self.current_dir}\")\n",
    "\n",
    "    def _search_pattern(self, which: str, command: str):\n",
    "        if which == \"dir\":\n",
    "            pattern = re.compile(\"(?<=dir )\\S+\")\n",
    "        elif which == \"file\":\n",
    "            pattern = re.compile(\"^\\d+\")\n",
    "        else:\n",
    "            raise ValueError(f\"Wrong value for which: '{which}'\")\n",
    "\n",
    "        try:\n",
    "            return pattern.search(command).group(0)\n",
    "\n",
    "        except AttributeError:\n",
    "            return None\n",
    "\n",
    "    def _add_dir_relationship(self, parent: str, child: str):\n",
    "        if parent == \"/\":\n",
    "            child_full = f\"/{child}\"\n",
    "        else:\n",
    "            child_full = f\"{self.current_dir}/{child}\"\n",
    "\n",
    "        self.parents[child_full] = parent\n",
    "\n",
    "        self.children[parent].append(child_full)\n",
    "        self.children[parent] = list(set(self.children[parent]))  # drop duplicates !\n",
    "\n",
    "        if self.debug:\n",
    "            print(f\"-> parent of '{child_full}': '{self.parents[child_full]}'\")\n",
    "            print(f\"-> chlidren of '{parent}': '{self.children[parent]}'\")\n",
    "\n",
    "    def _add_total_file_sizes(self, parent: str, new_file_size: str):\n",
    "        self.total_file_sizes[parent] += int(new_file_size)\n",
    "\n",
    "    def run_list(self, command):\n",
    "        # Split line results empty commands\n",
    "        line_results = command.split(\"\\n\")[1:]\n",
    "        try:\n",
    "            line_results.remove(\"\")\n",
    "            if self.debug:\n",
    "                print(f\"REMOVED line in  '{command}'\\n\")\n",
    "\n",
    "        except ValueError:\n",
    "            pass\n",
    "\n",
    "        # Initalisation\n",
    "        self.children[self.current_dir] = []\n",
    "        self.total_file_sizes[self.current_dir] = 0\n",
    "\n",
    "        # Data capture\n",
    "        for f in line_results:\n",
    "            dir_pattern = self._search_pattern(which=\"dir\", command=f)\n",
    "            file_pattern = self._search_pattern(which=\"file\", command=f)\n",
    "            # print(f\"{f}: dir pattern found: '{dir_pattern}'\")\n",
    "            # print(f\"{f}: file pattern found: '{file_pattern}'\")\n",
    "            if dir_pattern:\n",
    "                self._add_dir_relationship(parent=self.current_dir, child=dir_pattern)\n",
    "            elif file_pattern:\n",
    "                self._add_total_file_sizes(\n",
    "                    parent=self.current_dir, new_file_size=file_pattern\n",
    "                )\n",
    "            else:\n",
    "                raise ValueError(f\"No pattern found in '{f}'\")\n",
    "\n",
    "        if self.debug:\n",
    "            print(\n",
    "                f\"-> total file size of '{self.current_dir}': '{self.total_file_sizes[self.current_dir]}'\"\n",
    "            )\n",
    "\n",
    "    def compute_total_dir_size(self, dir_name: str):\n",
    "        \"\"\"Get file sizes recursively!\"\"\"\n",
    "        if len(self.children[dir_name]) == 0:\n",
    "            self.total_dir_sizes[dir_name] = self.total_file_sizes[dir_name]\n",
    "            return self.total_file_sizes[dir_name]\n",
    "        else:\n",
    "            total_dir_size = self.total_file_sizes[dir_name]\n",
    "            for child_dir in self.children[dir_name]:\n",
    "                subdir_size = self.compute_total_dir_size(child_dir)\n",
    "                total_dir_size += subdir_size\n",
    "\n",
    "            self.total_dir_sizes[dir_name] = total_dir_size\n",
    "            return total_dir_size\n",
    "\n",
    "\n",
    "def solve_07(path: str, is_part_2: bool = False, debug: bool = False):\n",
    "    input_txt = read_txt_file(path)\n",
    "\n",
    "    fs = FileSystem(debug=debug)\n",
    "    commands = [x.replace(\"$ \", \"\") for x in input_txt.split(\"\\n$ \")]\n",
    "\n",
    "    for i, c in enumerate(commands):\n",
    "        fs.execute(c)\n",
    "        if debug:\n",
    "            print()\n",
    "\n",
    "    if debug:\n",
    "        print(f\"parents: {fs.parents}\")\n",
    "        print(f\"children: {fs.children}\")\n",
    "        print(f\"total_file_sizes: {fs.total_file_sizes}\")\n",
    "\n",
    "    _ = fs.compute_total_dir_size(\"/\")\n",
    "\n",
    "    if debug:\n",
    "        print(f\"\\ntotal_dir_sizes: {fs.total_dir_sizes}\")\n",
    "\n",
    "    if not is_part_2:\n",
    "        return sum([x for x in fs.total_dir_sizes.values() if x <= 100_000])\n",
    "\n",
    "    else:\n",
    "        filesystem_size = 70_000_000\n",
    "        space_required = 30_000_000\n",
    "        tot_file_size = fs.total_dir_sizes[\"/\"]\n",
    "\n",
    "        adequate_dir_to_delete = dict()\n",
    "        # print(fs.total_dir_sizes)\n",
    "        for d, s in fs.total_dir_sizes.items():\n",
    "            if (filesystem_size - tot_file_size + s) >= space_required:\n",
    "                adequate_dir_to_delete[d] = s\n",
    "\n",
    "        if debug:\n",
    "            print(adequate_dir_to_delete)\n",
    "\n",
    "        return min([x for x in adequate_dir_to_delete.values()])\n",
    "\n",
    "\n",
    "# Run some tests\n",
    "example_file = f\"inputs/07_example.txt\"\n",
    "assert solve_07(example_file, debug=False) == 95437\n",
    "assert solve_07(example_file, is_part_2=True, debug=False) == 24933642\n",
    "\n",
    "input_file = \"inputs/07_input.txt\"\n",
    "assert solve_07(input_file, debug=False) == 1778099\n",
    "\n"
   ]
  },
  {
   "cell_type": "markdown",
   "id": "4078655b-094e-4770-980f-2c0e822d9f2b",
   "metadata": {
    "tags": []
   },
   "source": [
    "## Example"
   ]
  },
  {
   "cell_type": "code",
   "execution_count": 3,
   "id": "444bbee3-e129-453a-a39c-7bf5e1c2b0bf",
   "metadata": {},
   "outputs": [],
   "source": [
    "example_file = \"inputs/07_example.txt\""
   ]
  },
  {
   "cell_type": "code",
   "execution_count": 4,
   "id": "1c75213c-ae00-421e-b4ff-4f4f04951e6d",
   "metadata": {},
   "outputs": [
    {
     "data": {
      "text/plain": [
       "95437"
      ]
     },
     "execution_count": 4,
     "metadata": {},
     "output_type": "execute_result"
    }
   ],
   "source": [
    "solve_07(example_file, debug=False)"
   ]
  },
  {
   "cell_type": "code",
   "execution_count": 25,
   "id": "0f6b68a1-5925-4b30-9d0d-4c0b2cd2842d",
   "metadata": {},
   "outputs": [
    {
     "data": {
      "text/plain": [
       "24933642"
      ]
     },
     "execution_count": 25,
     "metadata": {},
     "output_type": "execute_result"
    }
   ],
   "source": [
    "solve_07(example_file, is_part_2=True, debug=False)"
   ]
  },
  {
   "cell_type": "markdown",
   "id": "d98ea77e-59ea-46b6-a1f6-424c2b2202ab",
   "metadata": {},
   "source": [
    "## Puzzle"
   ]
  },
  {
   "cell_type": "code",
   "execution_count": 26,
   "id": "bab40dfc-932e-4916-86ee-8ff1ccdfe929",
   "metadata": {},
   "outputs": [],
   "source": [
    "input_file = \"inputs/07_input.txt\""
   ]
  },
  {
   "cell_type": "code",
   "execution_count": 27,
   "id": "8c179a9a-d3a5-46f4-a32c-27732c92eb8b",
   "metadata": {},
   "outputs": [
    {
     "data": {
      "text/plain": [
       "1778099"
      ]
     },
     "execution_count": 27,
     "metadata": {},
     "output_type": "execute_result"
    }
   ],
   "source": [
    "solve_07(input_file, debug=False)"
   ]
  },
  {
   "cell_type": "code",
   "execution_count": 28,
   "id": "72cef6b5-38ee-4592-97e7-2516234dca90",
   "metadata": {},
   "outputs": [
    {
     "data": {
      "text/plain": [
       "1623571"
      ]
     },
     "execution_count": 28,
     "metadata": {},
     "output_type": "execute_result"
    }
   ],
   "source": [
    "solve_07(input_file, is_part_2=True, debug=False)"
   ]
  },
  {
   "cell_type": "code",
   "execution_count": null,
   "id": "58c17658-527f-4507-b2c2-b53b85e04541",
   "metadata": {},
   "outputs": [],
   "source": []
  }
 ],
 "metadata": {
  "kernelspec": {
   "display_name": "Python [conda env:py10]",
   "language": "python",
   "name": "conda-env-py10-py"
  },
  "language_info": {
   "codemirror_mode": {
    "name": "ipython",
    "version": 3
   },
   "file_extension": ".py",
   "mimetype": "text/x-python",
   "name": "python",
   "nbconvert_exporter": "python",
   "pygments_lexer": "ipython3",
   "version": "3.10.8"
  }
 },
 "nbformat": 4,
 "nbformat_minor": 5
}
