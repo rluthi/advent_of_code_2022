{
 "cells": [
  {
   "cell_type": "markdown",
   "id": "522234a6-8699-46ea-8b23-1de590cf3dc8",
   "metadata": {},
   "source": [
    "# Advent of code 2022"
   ]
  },
  {
   "cell_type": "code",
   "execution_count": 2,
   "id": "d769d294-ff3f-46c0-9a22-d030e5c7ac55",
   "metadata": {},
   "outputs": [],
   "source": [
    "import pandas as pd"
   ]
  },
  {
   "cell_type": "markdown",
   "id": "8175698e-d392-41ae-8a26-159effd41b9d",
   "metadata": {},
   "source": [
    "## 01"
   ]
  },
  {
   "cell_type": "markdown",
   "id": "13c4e066-b8a7-4c30-896d-b87b4333b366",
   "metadata": {},
   "source": [
    "### Code "
   ]
  },
  {
   "cell_type": "code",
   "execution_count": 3,
   "id": "039cbc4e-e8b4-4a90-81a7-a84d3a04d023",
   "metadata": {},
   "outputs": [],
   "source": [
    "def read_txt_file(path: str):\n",
    "    with open(path) as f:\n",
    "        string = f.read()\n",
    "    return string\n",
    "\n",
    "\n",
    "def solve_01(path: str, n=1):\n",
    "    input_txt = read_txt_file(path)\n",
    "\n",
    "    elf_food_sums = []\n",
    "    for elf_food_str in input_txt.split(\"\\n\\n\"):\n",
    "        elf_food_int = [int(x) for x in elf_food_str.split(\"\\n\") if x != \"\"]\n",
    "        elf_food_sums.append(sum(elf_food_int))\n",
    "    return sum(sorted(elf_food_sums)[-n:])"
   ]
  },
  {
   "cell_type": "markdown",
   "id": "50609719-0f50-4d79-abc7-6315d17bb8e9",
   "metadata": {},
   "source": [
    "### Example"
   ]
  },
  {
   "cell_type": "code",
   "execution_count": 4,
   "id": "20a150da-2037-46cd-9c7f-876699930dee",
   "metadata": {},
   "outputs": [],
   "source": [
    "example_path = \"inputs/01_example.txt\""
   ]
  },
  {
   "cell_type": "code",
   "execution_count": 5,
   "id": "57918731-fc45-429c-a449-6679942cb5ae",
   "metadata": {},
   "outputs": [
    {
     "data": {
      "text/plain": [
       "24000"
      ]
     },
     "execution_count": 5,
     "metadata": {},
     "output_type": "execute_result"
    }
   ],
   "source": [
    "solve_01(example_path)"
   ]
  },
  {
   "cell_type": "code",
   "execution_count": 6,
   "id": "35c23e98-1e32-4c8a-8961-b5c4be90e4d3",
   "metadata": {},
   "outputs": [
    {
     "data": {
      "text/plain": [
       "45000"
      ]
     },
     "execution_count": 6,
     "metadata": {},
     "output_type": "execute_result"
    }
   ],
   "source": [
    "solve_01(example_path, n=3)"
   ]
  },
  {
   "cell_type": "markdown",
   "id": "33443281-86a9-4f74-a2ac-34f903245745",
   "metadata": {},
   "source": [
    "### Puzzle"
   ]
  },
  {
   "cell_type": "code",
   "execution_count": 7,
   "id": "5accf907-ef6f-4ce9-9ba6-04cf6700f516",
   "metadata": {},
   "outputs": [],
   "source": [
    "input_file = \"inputs/01_input.txt\""
   ]
  },
  {
   "cell_type": "code",
   "execution_count": 8,
   "id": "d13603de-ee3c-486d-ab2a-302ccab1dba4",
   "metadata": {},
   "outputs": [
    {
     "data": {
      "text/plain": [
       "66616"
      ]
     },
     "execution_count": 8,
     "metadata": {},
     "output_type": "execute_result"
    }
   ],
   "source": [
    "solve_01(input_file)"
   ]
  },
  {
   "cell_type": "code",
   "execution_count": 9,
   "id": "f158bcad-1962-463b-ace3-d20a593f080e",
   "metadata": {},
   "outputs": [
    {
     "data": {
      "text/plain": [
       "199172"
      ]
     },
     "execution_count": 9,
     "metadata": {},
     "output_type": "execute_result"
    }
   ],
   "source": [
    "solve_01(input_file, n=3)"
   ]
  },
  {
   "cell_type": "markdown",
   "id": "ff5b984b-7e0e-44ef-aac3-cf3a74036322",
   "metadata": {},
   "source": [
    "## 02"
   ]
  },
  {
   "cell_type": "markdown",
   "id": "41d08625-3935-4787-9268-4b4b010dec17",
   "metadata": {},
   "source": [
    "### Code part 1"
   ]
  },
  {
   "cell_type": "code",
   "execution_count": 10,
   "id": "cc964fa1-1243-4b26-8c74-9e6c7ea2799c",
   "metadata": {},
   "outputs": [],
   "source": [
    "def compute_outcome(df):\n",
    "    df.loc[(df[\"me\"] == df[\"other\"]), \"outcome\"] = \"draw\"\n",
    "\n",
    "    df.loc[(df[\"me\"] == \"rock\") & (df[\"other\"] == \"paper\"), \"outcome\"] = \"lose\"\n",
    "    df.loc[(df[\"me\"] == \"rock\") & (df[\"other\"] == \"scissors\"), \"outcome\"] = \"win\"\n",
    "\n",
    "    df.loc[(df[\"me\"] == \"paper\") & (df[\"other\"] == \"rock\"), \"outcome\"] = \"win\"\n",
    "    df.loc[(df[\"me\"] == \"paper\") & (df[\"other\"] == \"scissors\"), \"outcome\"] = \"lose\"\n",
    "\n",
    "    df.loc[(df[\"me\"] == \"scissors\") & (df[\"other\"] == \"paper\"), \"outcome\"] = \"win\"\n",
    "    df.loc[(df[\"me\"] == \"scissors\") & (df[\"other\"] == \"rock\"), \"outcome\"] = \"lose\"\n",
    "\n",
    "    return df[\"outcome\"]\n",
    "\n",
    "\n",
    "def solve_02_part1(path: str):\n",
    "    input_txt = read_txt_file(path)\n",
    "    rounds_str = []\n",
    "    for strategy_str in input_txt.split(\"\\n\"):\n",
    "        rounds_str.append(strategy_str.split(\" \"))\n",
    "\n",
    "    # Define rounds\n",
    "    rounds = pd.DataFrame(rounds_str, columns=[\"other\", \"me\"])\n",
    "    rounds[\"other\"] = rounds[\"other\"].map({\"A\": \"rock\", \"B\": \"paper\", \"C\": \"scissors\"})\n",
    "    rounds[\"me\"] = rounds[\"me\"].map({\"X\": \"rock\", \"Y\": \"paper\", \"Z\": \"scissors\"})\n",
    "\n",
    "    # Score strategy\n",
    "    rounds = rounds.assign(outcome=compute_outcome)\n",
    "\n",
    "    outcome_points = {\"win\": 6, \"draw\": 3, \"lose\": 0}\n",
    "    rounds[\"outcome_points\"] = rounds[\"outcome\"].map(outcome_points)\n",
    "\n",
    "    outcome_points = {\"rock\": 1, \"paper\": 2, \"scissors\": 3}\n",
    "    rounds[\"shape_points\"] = rounds[\"me\"].map(outcome_points)\n",
    "\n",
    "    rounds[\"points\"] = rounds[\"outcome_points\"] + rounds[\"shape_points\"]\n",
    "\n",
    "    return rounds[\"points\"].sum()"
   ]
  },
  {
   "cell_type": "markdown",
   "id": "5c90d848-b2f5-4bc7-a45c-e796b95f9950",
   "metadata": {},
   "source": [
    "### Code part 2"
   ]
  },
  {
   "cell_type": "code",
   "execution_count": 11,
   "id": "18cc9296-608d-471f-972c-473353c424c8",
   "metadata": {},
   "outputs": [
    {
     "data": {
      "text/plain": [
       "12"
      ]
     },
     "execution_count": 11,
     "metadata": {},
     "output_type": "execute_result"
    }
   ],
   "source": [
    "def compute_my_move(df):\n",
    "    df.loc[(df[\"outcome\"] == \"draw\"), \"me\"] = df[\"other\"]\n",
    "\n",
    "    df.loc[(df[\"outcome\"] == \"lose\") & (df[\"other\"] == \"rock\"), \"me\"] = \"scissors\"\n",
    "    df.loc[(df[\"outcome\"] == \"lose\") & (df[\"other\"] == \"paper\"), \"me\"] = \"rock\"\n",
    "    df.loc[(df[\"outcome\"] == \"lose\") & (df[\"other\"] == \"scissors\"), \"me\"] = \"paper\"\n",
    "\n",
    "    df.loc[(df[\"outcome\"] == \"win\") & (df[\"other\"] == \"rock\"), \"me\"] = \"paper\"\n",
    "    df.loc[(df[\"outcome\"] == \"win\") & (df[\"other\"] == \"paper\"), \"me\"] = \"scissors\"\n",
    "    df.loc[(df[\"outcome\"] == \"win\") & (df[\"other\"] == \"scissors\"), \"me\"] = \"rock\"\n",
    "\n",
    "    return df[\"me\"]\n",
    "\n",
    "\n",
    "def solve_02_part2(path: str):\n",
    "    # Loading the inputs\n",
    "    input_txt = read_txt_file(path)\n",
    "    rounds_str = []\n",
    "    for strategy_str in input_txt.split(\"\\n\"):\n",
    "        rounds_str.append(strategy_str.split(\" \"))\n",
    "\n",
    "    # Define rounds\n",
    "    rounds = pd.DataFrame(rounds_str, columns=[\"other\", \"outcome\"])\n",
    "    rounds[\"other\"] = rounds[\"other\"].map({\"A\": \"rock\", \"B\": \"paper\", \"C\": \"scissors\"})\n",
    "    rounds[\"outcome\"] = rounds[\"outcome\"].map({\"X\": \"lose\", \"Y\": \"draw\", \"Z\": \"win\"})\n",
    "\n",
    "    # Score strategy\n",
    "    rounds = rounds.assign(me=compute_my_move)\n",
    "\n",
    "    outcome_points = {\"win\": 6, \"draw\": 3, \"lose\": 0}\n",
    "    rounds[\"outcome_points\"] = rounds[\"outcome\"].map(outcome_points)\n",
    "\n",
    "    outcome_points = {\"rock\": 1, \"paper\": 2, \"scissors\": 3}\n",
    "    rounds[\"shape_points\"] = rounds[\"me\"].map(outcome_points)\n",
    "\n",
    "    rounds[\"points\"] = rounds[\"outcome_points\"] + rounds[\"shape_points\"]\n",
    "\n",
    "    return rounds[\"points\"].sum()\n",
    "\n",
    "\n",
    "example_path = \"inputs/02_example.txt\"\n",
    "solve_02_part2(example_path)"
   ]
  },
  {
   "cell_type": "markdown",
   "id": "8163fe3f-0847-46da-b323-6502135be3cc",
   "metadata": {},
   "source": [
    "### Example"
   ]
  },
  {
   "cell_type": "code",
   "execution_count": 12,
   "id": "d3b773c5-c45e-443b-85ee-13df8386814f",
   "metadata": {},
   "outputs": [],
   "source": [
    "example_path = \"inputs/02_example.txt\""
   ]
  },
  {
   "cell_type": "code",
   "execution_count": 13,
   "id": "08f2c7ba-6ac0-4221-b508-801ffa4589d8",
   "metadata": {},
   "outputs": [
    {
     "data": {
      "text/plain": [
       "15"
      ]
     },
     "execution_count": 13,
     "metadata": {},
     "output_type": "execute_result"
    }
   ],
   "source": [
    "solve_02_part1(example_path)"
   ]
  },
  {
   "cell_type": "code",
   "execution_count": 14,
   "id": "e17a0d5e-74c6-4035-ad01-eaa0da117b5b",
   "metadata": {},
   "outputs": [
    {
     "data": {
      "text/plain": [
       "12"
      ]
     },
     "execution_count": 14,
     "metadata": {},
     "output_type": "execute_result"
    }
   ],
   "source": [
    "solve_02_part2(example_path)"
   ]
  },
  {
   "cell_type": "markdown",
   "id": "08a9c48f-de6b-4554-8b1a-a79896589725",
   "metadata": {},
   "source": [
    "### Puzzle"
   ]
  },
  {
   "cell_type": "code",
   "execution_count": 15,
   "id": "59263cf5-9ef3-485d-b87e-c6e50940d6bc",
   "metadata": {},
   "outputs": [],
   "source": [
    "input_file = \"inputs/02_input.txt\""
   ]
  },
  {
   "cell_type": "code",
   "execution_count": 16,
   "id": "97be5417-a580-4edd-8156-0518ed8c0ddb",
   "metadata": {},
   "outputs": [
    {
     "data": {
      "text/plain": [
       "15523.0"
      ]
     },
     "execution_count": 16,
     "metadata": {},
     "output_type": "execute_result"
    }
   ],
   "source": [
    "solve_02_part1(input_file)"
   ]
  },
  {
   "cell_type": "code",
   "execution_count": 17,
   "id": "d7f4bd26-c19c-43c1-9258-26185f3f418c",
   "metadata": {},
   "outputs": [
    {
     "data": {
      "text/plain": [
       "15702.0"
      ]
     },
     "execution_count": 17,
     "metadata": {},
     "output_type": "execute_result"
    }
   ],
   "source": [
    "solve_02_part2(input_file)"
   ]
  },
  {
   "cell_type": "markdown",
   "id": "33a96df9-6120-4311-b363-1e2f6e47c7c0",
   "metadata": {},
   "source": [
    "## 03"
   ]
  },
  {
   "cell_type": "markdown",
   "id": "2367806f-409d-436e-8201-fd5de6e576be",
   "metadata": {},
   "source": [
    "### Code"
   ]
  },
  {
   "cell_type": "code",
   "execution_count": 23,
   "id": "96f606a4-c49d-4fc2-b725-5485d586a715",
   "metadata": {},
   "outputs": [
    {
     "data": {
      "text/plain": [
       "70"
      ]
     },
     "execution_count": 23,
     "metadata": {},
     "output_type": "execute_result"
    }
   ],
   "source": [
    "import string\n",
    "\n",
    "item_priorities = {x: i + 1 for i, x in enumerate(string.ascii_letters)}\n",
    "\n",
    "class Rucksack:\n",
    "    def __init__(self, content: str):\n",
    "        self.content = content\n",
    "        # print(self.content)\n",
    "        self.nb_items = len(self.content)\n",
    "        split = int(self.nb_items / 2)\n",
    "        self.content_set_1 = set(self.content[:split])\n",
    "        self.content_set_2 = set(self.content[split:])\n",
    "\n",
    "    def get_common_item_priority(self):\n",
    "        try:\n",
    "            commom_item = list(self.content_set_1 & self.content_set_2)[0]\n",
    "            return item_priorities[commom_item]\n",
    "        except IndexError:\n",
    "            return 0\n",
    "\n",
    "\n",
    "def solve_03_part1(path: str):\n",
    "    input_txt = read_txt_file(path)\n",
    "    rucksack_contents = input_txt.split(\"\\n\")\n",
    "\n",
    "    common_item_priorities = []\n",
    "    for rucksack_content in rucksack_contents:\n",
    "        r = Rucksack(rucksack_content)\n",
    "        common_item_priorities.append(r.get_common_item_priority())\n",
    "\n",
    "    return sum(common_item_priorities)\n",
    "\n",
    "\n",
    "# Run some tests\n",
    "example_file = \"inputs/03_example.txt\"\n",
    "assert solve_03_part1(example_file) == 157\n",
    "\n",
    "input_file = \"inputs/03_input.txt\"\n",
    "assert solve_03_part1(input_file) == 8123\n",
    "\n",
    "def solve_03_part2(path: str):\n",
    "    input_txt = read_txt_file(path)\n",
    "    rucksack_contents = input_txt.split(\"\\n\")\n",
    "\n",
    "    nb_teams = int(len(rucksack_contents) / 3)\n",
    "    common_item_priorities = []\n",
    "    for i in range(nb_teams):\n",
    "        team_rucksacks = (rucksack_contents[i*3:(i+1)*3])\n",
    "        team_rucksacks_sets = ([set(x) for x in team_rucksacks])\n",
    "        try:\n",
    "            commom_item = list(team_rucksacks_sets[0] & team_rucksacks_sets[1] & team_rucksacks_sets[2])[0]\n",
    "            common_item_priorities.append(item_priorities[commom_item])\n",
    "        except IndexError:\n",
    "            pass\n",
    "    return sum(common_item_priorities)"
   ]
  },
  {
   "cell_type": "markdown",
   "id": "f233f2c9-cebc-4204-beb3-4e0d99488ab1",
   "metadata": {},
   "source": [
    "### Example"
   ]
  },
  {
   "cell_type": "code",
   "execution_count": 27,
   "id": "26ff1ab8-6974-4326-a18c-959378cd1bf0",
   "metadata": {},
   "outputs": [],
   "source": [
    "example_file = \"inputs/03_example.txt\""
   ]
  },
  {
   "cell_type": "code",
   "execution_count": 28,
   "id": "8256d632-5f4c-4455-8885-30b6bb945247",
   "metadata": {},
   "outputs": [
    {
     "data": {
      "text/plain": [
       "157"
      ]
     },
     "execution_count": 28,
     "metadata": {},
     "output_type": "execute_result"
    }
   ],
   "source": [
    "solve_03_part1(example_file)"
   ]
  },
  {
   "cell_type": "code",
   "execution_count": 29,
   "id": "ec7e07a0-23f7-4c79-820e-91f6c5ff2293",
   "metadata": {},
   "outputs": [
    {
     "data": {
      "text/plain": [
       "70"
      ]
     },
     "execution_count": 29,
     "metadata": {},
     "output_type": "execute_result"
    }
   ],
   "source": [
    "solve_03_part2(example_file)"
   ]
  },
  {
   "cell_type": "markdown",
   "id": "15d90561-e77c-40d2-a8f7-c20cdfc77883",
   "metadata": {},
   "source": [
    "### Puzzle"
   ]
  },
  {
   "cell_type": "code",
   "execution_count": 30,
   "id": "171e4dcd-6a86-4e69-9121-68b66d2dc5ff",
   "metadata": {},
   "outputs": [],
   "source": [
    "input_file = \"inputs/03_input.txt\""
   ]
  },
  {
   "cell_type": "code",
   "execution_count": 31,
   "id": "317f6495-3909-4993-b788-de32becb3419",
   "metadata": {},
   "outputs": [
    {
     "data": {
      "text/plain": [
       "8123"
      ]
     },
     "execution_count": 31,
     "metadata": {},
     "output_type": "execute_result"
    }
   ],
   "source": [
    "solve_03_part1(input_file)"
   ]
  },
  {
   "cell_type": "code",
   "execution_count": 32,
   "id": "44436f52-ce1a-42aa-a9a2-c67c201fad4c",
   "metadata": {},
   "outputs": [
    {
     "data": {
      "text/plain": [
       "2620"
      ]
     },
     "execution_count": 32,
     "metadata": {},
     "output_type": "execute_result"
    }
   ],
   "source": [
    "solve_03_part2(input_file)"
   ]
  },
  {
   "cell_type": "code",
   "execution_count": null,
   "id": "6e830627-f509-4f7e-ab95-1d71d160218f",
   "metadata": {},
   "outputs": [],
   "source": []
  }
 ],
 "metadata": {
  "kernelspec": {
   "display_name": "Python [conda env:py10]",
   "language": "python",
   "name": "conda-env-py10-py"
  },
  "language_info": {
   "codemirror_mode": {
    "name": "ipython",
    "version": 3
   },
   "file_extension": ".py",
   "mimetype": "text/x-python",
   "name": "python",
   "nbconvert_exporter": "python",
   "pygments_lexer": "ipython3",
   "version": "3.10.8"
  }
 },
 "nbformat": 4,
 "nbformat_minor": 5
}
