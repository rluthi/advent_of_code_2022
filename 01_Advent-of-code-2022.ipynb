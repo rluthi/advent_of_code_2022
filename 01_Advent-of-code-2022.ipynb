{
 "cells": [
  {
   "cell_type": "markdown",
   "id": "522234a6-8699-46ea-8b23-1de590cf3dc8",
   "metadata": {},
   "source": [
    "# Advent of code 2022"
   ]
  },
  {
   "cell_type": "code",
   "execution_count": 1,
   "id": "d769d294-ff3f-46c0-9a22-d030e5c7ac55",
   "metadata": {},
   "outputs": [],
   "source": [
    "import pandas as pd"
   ]
  },
  {
   "cell_type": "markdown",
   "id": "8175698e-d392-41ae-8a26-159effd41b9d",
   "metadata": {},
   "source": [
    "## 01"
   ]
  },
  {
   "cell_type": "code",
   "execution_count": 31,
   "id": "039cbc4e-e8b4-4a90-81a7-a84d3a04d023",
   "metadata": {},
   "outputs": [],
   "source": [
    "def read_txt_file(path:str):\n",
    "    with open(path) as f:\n",
    "        string = f.read()\n",
    "    return string\n",
    "\n",
    "def solve_01(path:str, n=1):\n",
    "    input_txt = read_txt_file(path)\n",
    "    \n",
    "    elf_food_sums = []\n",
    "    for elf_food_str in input_txt.split(\"\\n\\n\"):\n",
    "        elf_food_int = [int(x) for x in elf_food_str.split(\"\\n\") if x != \"\"]\n",
    "        elf_food_sums.append(sum(elf_food_int))\n",
    "    return sum(sorted(elf_food_sums)[-n:])"
   ]
  },
  {
   "cell_type": "markdown",
   "id": "50609719-0f50-4d79-abc7-6315d17bb8e9",
   "metadata": {},
   "source": [
    "### Example"
   ]
  },
  {
   "cell_type": "code",
   "execution_count": 15,
   "id": "20a150da-2037-46cd-9c7f-876699930dee",
   "metadata": {},
   "outputs": [],
   "source": [
    "example_path = \"inputs/01_example.txt\""
   ]
  },
  {
   "cell_type": "code",
   "execution_count": 32,
   "id": "57918731-fc45-429c-a449-6679942cb5ae",
   "metadata": {},
   "outputs": [
    {
     "data": {
      "text/plain": [
       "24000"
      ]
     },
     "execution_count": 32,
     "metadata": {},
     "output_type": "execute_result"
    }
   ],
   "source": [
    "solve_01(example_path)"
   ]
  },
  {
   "cell_type": "code",
   "execution_count": 33,
   "id": "35c23e98-1e32-4c8a-8961-b5c4be90e4d3",
   "metadata": {},
   "outputs": [
    {
     "data": {
      "text/plain": [
       "45000"
      ]
     },
     "execution_count": 33,
     "metadata": {},
     "output_type": "execute_result"
    }
   ],
   "source": [
    "solve_01(example_path, n=3)"
   ]
  },
  {
   "cell_type": "markdown",
   "id": "33443281-86a9-4f74-a2ac-34f903245745",
   "metadata": {},
   "source": [
    "### Puzzle"
   ]
  },
  {
   "cell_type": "code",
   "execution_count": 34,
   "id": "5accf907-ef6f-4ce9-9ba6-04cf6700f516",
   "metadata": {},
   "outputs": [],
   "source": [
    "input_file = \"inputs/01_input.txt\""
   ]
  },
  {
   "cell_type": "code",
   "execution_count": 35,
   "id": "d13603de-ee3c-486d-ab2a-302ccab1dba4",
   "metadata": {},
   "outputs": [
    {
     "data": {
      "text/plain": [
       "66616"
      ]
     },
     "execution_count": 35,
     "metadata": {},
     "output_type": "execute_result"
    }
   ],
   "source": [
    "solve_01(input_file)"
   ]
  },
  {
   "cell_type": "code",
   "execution_count": 36,
   "id": "f158bcad-1962-463b-ace3-d20a593f080e",
   "metadata": {},
   "outputs": [
    {
     "data": {
      "text/plain": [
       "199172"
      ]
     },
     "execution_count": 36,
     "metadata": {},
     "output_type": "execute_result"
    }
   ],
   "source": [
    "solve_01(input_file, n=3)"
   ]
  },
  {
   "cell_type": "markdown",
   "id": "ff5b984b-7e0e-44ef-aac3-cf3a74036322",
   "metadata": {},
   "source": [
    "## 02"
   ]
  },
  {
   "cell_type": "code",
   "execution_count": 14,
   "id": "36ada1b3-1400-45e3-ab79-ecf75bff6f0a",
   "metadata": {},
   "outputs": [],
   "source": [
    "def solve_02(path:str):\n",
    "    pass\n",
    "#     input_txt = read_txt_file(path)\n",
    "    \n",
    "#     elf_food_sums = []\n",
    "#     for elf_food_str in input_txt.split(\"\\n\\n\"):\n",
    "#         elf_food_int = [int(x) for x in elf_food_str.split(\"\\n\") if x != \"\"]\n",
    "#         elf_food_sums.append(sum(elf_food_int))\n",
    "#     return max(elf_food_sums)"
   ]
  },
  {
   "cell_type": "markdown",
   "id": "8163fe3f-0847-46da-b323-6502135be3cc",
   "metadata": {},
   "source": [
    "### Example"
   ]
  },
  {
   "cell_type": "code",
   "execution_count": 15,
   "id": "e29067c8-714b-4a9c-be9e-af24c4e2ef43",
   "metadata": {},
   "outputs": [],
   "source": [
    "example_path = \"inputs/02_example.txt\""
   ]
  },
  {
   "cell_type": "code",
   "execution_count": 16,
   "id": "ca32a5bc-24a7-41f6-8d7f-a0b8761575a5",
   "metadata": {},
   "outputs": [
    {
     "data": {
      "text/plain": [
       "24000"
      ]
     },
     "execution_count": 16,
     "metadata": {},
     "output_type": "execute_result"
    }
   ],
   "source": [
    "solve_02(example_path)"
   ]
  },
  {
   "cell_type": "markdown",
   "id": "08a9c48f-de6b-4554-8b1a-a79896589725",
   "metadata": {},
   "source": [
    "### Puzzle"
   ]
  },
  {
   "cell_type": "code",
   "execution_count": 17,
   "id": "59263cf5-9ef3-485d-b87e-c6e50940d6bc",
   "metadata": {},
   "outputs": [],
   "source": [
    "input_file = \"inputs/02_input.txt\""
   ]
  },
  {
   "cell_type": "code",
   "execution_count": 20,
   "id": "97be5417-a580-4edd-8156-0518ed8c0ddb",
   "metadata": {},
   "outputs": [
    {
     "data": {
      "text/plain": [
       "66616"
      ]
     },
     "execution_count": 20,
     "metadata": {},
     "output_type": "execute_result"
    }
   ],
   "source": [
    "solve_02(input_file)"
   ]
  },
  {
   "cell_type": "code",
   "execution_count": null,
   "id": "6e9d09e2-5aa9-4a43-a204-575a813498d3",
   "metadata": {},
   "outputs": [],
   "source": []
  }
 ],
 "metadata": {
  "kernelspec": {
   "display_name": "Python [conda env:py10]",
   "language": "python",
   "name": "conda-env-py10-py"
  },
  "language_info": {
   "codemirror_mode": {
    "name": "ipython",
    "version": 3
   },
   "file_extension": ".py",
   "mimetype": "text/x-python",
   "name": "python",
   "nbconvert_exporter": "python",
   "pygments_lexer": "ipython3",
   "version": "3.10.8"
  }
 },
 "nbformat": 4,
 "nbformat_minor": 5
}
