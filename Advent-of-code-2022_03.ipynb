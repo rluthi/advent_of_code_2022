{
 "cells": [
  {
   "cell_type": "markdown",
   "id": "522234a6-8699-46ea-8b23-1de590cf3dc8",
   "metadata": {},
   "source": [
    "# Advent of code 2022 - 03"
   ]
  },
  {
   "cell_type": "code",
   "execution_count": 1,
   "id": "d769d294-ff3f-46c0-9a22-d030e5c7ac55",
   "metadata": {},
   "outputs": [],
   "source": [
    "from utils import read_txt_file"
   ]
  },
  {
   "cell_type": "markdown",
   "id": "2367806f-409d-436e-8201-fd5de6e576be",
   "metadata": {},
   "source": [
    "## Code"
   ]
  },
  {
   "cell_type": "code",
   "execution_count": 2,
   "id": "96f606a4-c49d-4fc2-b725-5485d586a715",
   "metadata": {},
   "outputs": [],
   "source": [
    "import string\n",
    "\n",
    "item_priorities = {x: i + 1 for i, x in enumerate(string.ascii_letters)}\n",
    "\n",
    "\n",
    "class Rucksack:\n",
    "    def __init__(self, content: str):\n",
    "        self.content = content\n",
    "        # print(self.content)\n",
    "        self.nb_items = len(self.content)\n",
    "        split = int(self.nb_items / 2)\n",
    "        self.content_set_1 = set(self.content[:split])\n",
    "        self.content_set_2 = set(self.content[split:])\n",
    "\n",
    "    def get_common_item_priority(self):\n",
    "        try:\n",
    "            commom_item = list(self.content_set_1 & self.content_set_2)[0]\n",
    "            return item_priorities[commom_item]\n",
    "        except IndexError:\n",
    "            return 0\n",
    "\n",
    "\n",
    "def solve_03_part1(path: str):\n",
    "    input_txt = read_txt_file(path)\n",
    "    rucksack_contents = input_txt.split(\"\\n\")\n",
    "\n",
    "    common_item_priorities = []\n",
    "    for rucksack_content in rucksack_contents:\n",
    "        r = Rucksack(rucksack_content)\n",
    "        common_item_priorities.append(r.get_common_item_priority())\n",
    "\n",
    "    return sum(common_item_priorities)\n",
    "\n",
    "\n",
    "# Run some tests\n",
    "example_file = \"inputs/03_example.txt\"\n",
    "assert solve_03_part1(example_file) == 157\n",
    "\n",
    "input_file = \"inputs/03_input.txt\"\n",
    "assert solve_03_part1(input_file) == 8123\n",
    "\n",
    "\n",
    "def solve_03_part2(path: str):\n",
    "    input_txt = read_txt_file(path)\n",
    "    rucksack_contents = input_txt.split(\"\\n\")\n",
    "\n",
    "    nb_teams = int(len(rucksack_contents) / 3)\n",
    "    common_item_priorities = []\n",
    "    for i in range(nb_teams):\n",
    "        team_rucksacks = rucksack_contents[i * 3 : (i + 1) * 3]\n",
    "        team_rucksacks_sets = [set(x) for x in team_rucksacks]\n",
    "        try:\n",
    "            commom_item = list(\n",
    "                team_rucksacks_sets[0] & team_rucksacks_sets[1] & team_rucksacks_sets[2]\n",
    "            )[0]\n",
    "            common_item_priorities.append(item_priorities[commom_item])\n",
    "        except IndexError:\n",
    "            pass\n",
    "    return sum(common_item_priorities)"
   ]
  },
  {
   "cell_type": "markdown",
   "id": "f233f2c9-cebc-4204-beb3-4e0d99488ab1",
   "metadata": {},
   "source": [
    "## Example"
   ]
  },
  {
   "cell_type": "code",
   "execution_count": 3,
   "id": "26ff1ab8-6974-4326-a18c-959378cd1bf0",
   "metadata": {},
   "outputs": [],
   "source": [
    "example_file = \"inputs/03_example.txt\""
   ]
  },
  {
   "cell_type": "code",
   "execution_count": 4,
   "id": "8256d632-5f4c-4455-8885-30b6bb945247",
   "metadata": {},
   "outputs": [
    {
     "data": {
      "text/plain": [
       "157"
      ]
     },
     "execution_count": 4,
     "metadata": {},
     "output_type": "execute_result"
    }
   ],
   "source": [
    "solve_03_part1(example_file)"
   ]
  },
  {
   "cell_type": "code",
   "execution_count": 5,
   "id": "ec7e07a0-23f7-4c79-820e-91f6c5ff2293",
   "metadata": {},
   "outputs": [
    {
     "data": {
      "text/plain": [
       "70"
      ]
     },
     "execution_count": 5,
     "metadata": {},
     "output_type": "execute_result"
    }
   ],
   "source": [
    "solve_03_part2(example_file)"
   ]
  },
  {
   "cell_type": "markdown",
   "id": "15d90561-e77c-40d2-a8f7-c20cdfc77883",
   "metadata": {},
   "source": [
    "## Puzzle"
   ]
  },
  {
   "cell_type": "code",
   "execution_count": 6,
   "id": "171e4dcd-6a86-4e69-9121-68b66d2dc5ff",
   "metadata": {},
   "outputs": [],
   "source": [
    "input_file = \"inputs/03_input.txt\""
   ]
  },
  {
   "cell_type": "code",
   "execution_count": 7,
   "id": "317f6495-3909-4993-b788-de32becb3419",
   "metadata": {},
   "outputs": [
    {
     "data": {
      "text/plain": [
       "8123"
      ]
     },
     "execution_count": 7,
     "metadata": {},
     "output_type": "execute_result"
    }
   ],
   "source": [
    "solve_03_part1(input_file)"
   ]
  },
  {
   "cell_type": "code",
   "execution_count": 8,
   "id": "44436f52-ce1a-42aa-a9a2-c67c201fad4c",
   "metadata": {},
   "outputs": [
    {
     "data": {
      "text/plain": [
       "2620"
      ]
     },
     "execution_count": 8,
     "metadata": {},
     "output_type": "execute_result"
    }
   ],
   "source": [
    "solve_03_part2(input_file)"
   ]
  },
  {
   "cell_type": "code",
   "execution_count": null,
   "id": "f08542f7-b462-4224-ab9e-b3d811d1eb68",
   "metadata": {},
   "outputs": [],
   "source": []
  }
 ],
 "metadata": {
  "kernelspec": {
   "display_name": "Python [conda env:py10]",
   "language": "python",
   "name": "conda-env-py10-py"
  },
  "language_info": {
   "codemirror_mode": {
    "name": "ipython",
    "version": 3
   },
   "file_extension": ".py",
   "mimetype": "text/x-python",
   "name": "python",
   "nbconvert_exporter": "python",
   "pygments_lexer": "ipython3",
   "version": "3.10.8"
  }
 },
 "nbformat": 4,
 "nbformat_minor": 5
}
