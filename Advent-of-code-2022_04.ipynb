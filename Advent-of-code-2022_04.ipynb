{
 "cells": [
  {
   "cell_type": "markdown",
   "id": "522234a6-8699-46ea-8b23-1de590cf3dc8",
   "metadata": {},
   "source": [
    "# Advent of code 2022 - 04"
   ]
  },
  {
   "cell_type": "code",
   "execution_count": 1,
   "id": "7419fbc1-c02f-4ba5-b0b3-e2defb71f8c4",
   "metadata": {},
   "outputs": [],
   "source": [
    "from utils import read_txt_file"
   ]
  },
  {
   "cell_type": "markdown",
   "id": "cd53bc04-4644-4677-885e-81b8d3aaa149",
   "metadata": {},
   "source": [
    "## Code"
   ]
  },
  {
   "cell_type": "code",
   "execution_count": 2,
   "id": "89165469-bcbf-4dd2-bcaf-a673590ddd29",
   "metadata": {},
   "outputs": [],
   "source": [
    "class AssignmentPairs:\n",
    "    def __init__(self, input_str: str):\n",
    "        self.input_str = input_str\n",
    "        # print(self.input_str)\n",
    "        self.assignments_str = self.input_str.split(\",\")\n",
    "        self.assignments_set_1 = self._crate_assignment_sets(self.assignments_str[0])\n",
    "        self.assignments_set_2 = self._crate_assignment_sets(self.assignments_str[1])\n",
    "        # print(self.assignments_set_1, self.assignments_set_2)\n",
    "\n",
    "    def _crate_assignment_sets(self, input_str: str):\n",
    "        start, end = [int(x) for x in input_str.split(\"-\")]\n",
    "        return set(range(start, end + 1))\n",
    "\n",
    "    def is_fully_contained(self):\n",
    "        cond_1 = self.assignments_set_1.issubset(self.assignments_set_2)\n",
    "        cond_2 = self.assignments_set_2.issubset(self.assignments_set_1)\n",
    "        # print(cond_1 | cond_2)\n",
    "        return cond_1 | cond_2\n",
    "\n",
    "    def has_overlap(self):\n",
    "        # print(self.assignments_set_1 & self.assignments_set_2)\n",
    "        return len(self.assignments_set_1 & self.assignments_set_2) > 0\n",
    "\n",
    "\n",
    "def solve_04(path: str, part=1):\n",
    "    input_txt = read_txt_file(path)\n",
    "    assignments_str = input_txt.split(\"\\n\")\n",
    "    try:\n",
    "        assignments_str.remove(\"\")\n",
    "    except ValueError:\n",
    "        pass\n",
    "\n",
    "    results = []\n",
    "    for assignment_str in assignments_str:\n",
    "        ap = AssignmentPairs(assignment_str)\n",
    "        if part == 1:\n",
    "            results.append(ap.is_fully_contained())\n",
    "        else:\n",
    "            results.append(ap.has_overlap())\n",
    "\n",
    "    return sum(results)\n",
    "\n",
    "\n",
    "# Run some tests\n",
    "example_file = \"inputs/04_example.txt\"\n",
    "assert solve_04(example_file) == 2\n",
    "\n",
    "input_file = \"inputs/04_input.txt\"\n",
    "assert solve_04(input_file) == 540"
   ]
  },
  {
   "cell_type": "markdown",
   "id": "fa57b647-b180-4679-94a7-1f797da94b97",
   "metadata": {},
   "source": [
    "## Example"
   ]
  },
  {
   "cell_type": "code",
   "execution_count": 3,
   "id": "ef849b87-b39e-48e6-ae86-01099ecc950a",
   "metadata": {},
   "outputs": [],
   "source": [
    "example_file = \"inputs/04_example.txt\""
   ]
  },
  {
   "cell_type": "code",
   "execution_count": 4,
   "id": "1cb35d11-5d79-4930-817b-e5d5c4b1802b",
   "metadata": {},
   "outputs": [
    {
     "data": {
      "text/plain": [
       "2"
      ]
     },
     "execution_count": 4,
     "metadata": {},
     "output_type": "execute_result"
    }
   ],
   "source": [
    "solve_04(example_file)"
   ]
  },
  {
   "cell_type": "code",
   "execution_count": 5,
   "id": "e8645596-de9e-4c99-850c-09edfc35506f",
   "metadata": {},
   "outputs": [
    {
     "data": {
      "text/plain": [
       "4"
      ]
     },
     "execution_count": 5,
     "metadata": {},
     "output_type": "execute_result"
    }
   ],
   "source": [
    "solve_04(example_file, part=2)"
   ]
  },
  {
   "cell_type": "markdown",
   "id": "2dc2c5e1-d3b9-4549-a511-9bb02805f121",
   "metadata": {},
   "source": [
    "## Puzzle"
   ]
  },
  {
   "cell_type": "code",
   "execution_count": 6,
   "id": "4b9e8348-8333-4b59-af4b-6ff40ce75799",
   "metadata": {},
   "outputs": [],
   "source": [
    "input_file = \"inputs/04_input.txt\""
   ]
  },
  {
   "cell_type": "code",
   "execution_count": 7,
   "id": "77503b9b-741c-40cc-9823-464a5423f716",
   "metadata": {},
   "outputs": [
    {
     "data": {
      "text/plain": [
       "540"
      ]
     },
     "execution_count": 7,
     "metadata": {},
     "output_type": "execute_result"
    }
   ],
   "source": [
    "solve_04(input_file)"
   ]
  },
  {
   "cell_type": "code",
   "execution_count": 8,
   "id": "fe6b0462-9097-48ae-9794-344842992694",
   "metadata": {},
   "outputs": [
    {
     "data": {
      "text/plain": [
       "872"
      ]
     },
     "execution_count": 8,
     "metadata": {},
     "output_type": "execute_result"
    }
   ],
   "source": [
    "solve_04(input_file, part=2)"
   ]
  }
 ],
 "metadata": {
  "kernelspec": {
   "display_name": "Python [conda env:py10]",
   "language": "python",
   "name": "conda-env-py10-py"
  },
  "language_info": {
   "codemirror_mode": {
    "name": "ipython",
    "version": 3
   },
   "file_extension": ".py",
   "mimetype": "text/x-python",
   "name": "python",
   "nbconvert_exporter": "python",
   "pygments_lexer": "ipython3",
   "version": "3.10.8"
  }
 },
 "nbformat": 4,
 "nbformat_minor": 5
}
