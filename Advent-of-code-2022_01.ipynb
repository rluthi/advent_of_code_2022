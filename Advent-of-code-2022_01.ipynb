{
 "cells": [
  {
   "cell_type": "markdown",
   "id": "522234a6-8699-46ea-8b23-1de590cf3dc8",
   "metadata": {},
   "source": [
    "# Advent of code 2022 - 01"
   ]
  },
  {
   "cell_type": "code",
   "execution_count": 1,
   "id": "3c66f6ea-4359-4c2f-b76f-041878f5ae8a",
   "metadata": {},
   "outputs": [],
   "source": [
    "from utils import read_txt_file"
   ]
  },
  {
   "cell_type": "markdown",
   "id": "13c4e066-b8a7-4c30-896d-b87b4333b366",
   "metadata": {},
   "source": [
    "## Code "
   ]
  },
  {
   "cell_type": "code",
   "execution_count": 2,
   "id": "039cbc4e-e8b4-4a90-81a7-a84d3a04d023",
   "metadata": {},
   "outputs": [],
   "source": [
    "def solve_01(path: str, n=1):\n",
    "    input_txt = read_txt_file(path)\n",
    "\n",
    "    elf_food_sums = []\n",
    "    for elf_food_str in input_txt.split(\"\\n\\n\"):\n",
    "        elf_food_int = [int(x) for x in elf_food_str.split(\"\\n\") if x != \"\"]\n",
    "        elf_food_sums.append(sum(elf_food_int))\n",
    "    return sum(sorted(elf_food_sums)[-n:])"
   ]
  },
  {
   "cell_type": "markdown",
   "id": "50609719-0f50-4d79-abc7-6315d17bb8e9",
   "metadata": {
    "tags": []
   },
   "source": [
    "## Example"
   ]
  },
  {
   "cell_type": "code",
   "execution_count": 3,
   "id": "20a150da-2037-46cd-9c7f-876699930dee",
   "metadata": {},
   "outputs": [],
   "source": [
    "example_path = \"inputs/01_example.txt\""
   ]
  },
  {
   "cell_type": "code",
   "execution_count": 4,
   "id": "57918731-fc45-429c-a449-6679942cb5ae",
   "metadata": {},
   "outputs": [
    {
     "data": {
      "text/plain": [
       "24000"
      ]
     },
     "execution_count": 4,
     "metadata": {},
     "output_type": "execute_result"
    }
   ],
   "source": [
    "solve_01(example_path)"
   ]
  },
  {
   "cell_type": "code",
   "execution_count": 5,
   "id": "35c23e98-1e32-4c8a-8961-b5c4be90e4d3",
   "metadata": {},
   "outputs": [
    {
     "data": {
      "text/plain": [
       "45000"
      ]
     },
     "execution_count": 5,
     "metadata": {},
     "output_type": "execute_result"
    }
   ],
   "source": [
    "solve_01(example_path, n=3)"
   ]
  },
  {
   "cell_type": "markdown",
   "id": "33443281-86a9-4f74-a2ac-34f903245745",
   "metadata": {
    "tags": []
   },
   "source": [
    "## Puzzle"
   ]
  },
  {
   "cell_type": "code",
   "execution_count": 6,
   "id": "5accf907-ef6f-4ce9-9ba6-04cf6700f516",
   "metadata": {},
   "outputs": [],
   "source": [
    "input_file = \"inputs/01_input.txt\""
   ]
  },
  {
   "cell_type": "code",
   "execution_count": 7,
   "id": "d13603de-ee3c-486d-ab2a-302ccab1dba4",
   "metadata": {},
   "outputs": [
    {
     "data": {
      "text/plain": [
       "66616"
      ]
     },
     "execution_count": 7,
     "metadata": {},
     "output_type": "execute_result"
    }
   ],
   "source": [
    "solve_01(input_file)"
   ]
  },
  {
   "cell_type": "code",
   "execution_count": 8,
   "id": "f158bcad-1962-463b-ace3-d20a593f080e",
   "metadata": {},
   "outputs": [
    {
     "data": {
      "text/plain": [
       "199172"
      ]
     },
     "execution_count": 8,
     "metadata": {},
     "output_type": "execute_result"
    }
   ],
   "source": [
    "solve_01(input_file, n=3)"
   ]
  },
  {
   "cell_type": "code",
   "execution_count": null,
   "id": "d03b5bc2-679d-40d4-a993-a3545ee7242d",
   "metadata": {},
   "outputs": [],
   "source": []
  }
 ],
 "metadata": {
  "kernelspec": {
   "display_name": "Python [conda env:py10]",
   "language": "python",
   "name": "conda-env-py10-py"
  },
  "language_info": {
   "codemirror_mode": {
    "name": "ipython",
    "version": 3
   },
   "file_extension": ".py",
   "mimetype": "text/x-python",
   "name": "python",
   "nbconvert_exporter": "python",
   "pygments_lexer": "ipython3",
   "version": "3.10.8"
  }
 },
 "nbformat": 4,
 "nbformat_minor": 5
}
