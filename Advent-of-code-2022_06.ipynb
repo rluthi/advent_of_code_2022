{
 "cells": [
  {
   "cell_type": "markdown",
   "id": "522234a6-8699-46ea-8b23-1de590cf3dc8",
   "metadata": {},
   "source": [
    "# Advent of code 2022 - 06"
   ]
  },
  {
   "cell_type": "code",
   "execution_count": 1,
   "id": "13005d8d-2797-43b1-864f-44a8a0d9a96b",
   "metadata": {},
   "outputs": [],
   "source": [
    "from utils import read_txt_file"
   ]
  },
  {
   "cell_type": "markdown",
   "id": "3a9d9939-6732-4578-9f67-8bf67f6abf1c",
   "metadata": {},
   "source": [
    "## Code"
   ]
  },
  {
   "cell_type": "code",
   "execution_count": 2,
   "id": "97e3ca96-5fff-49e6-beae-c1e705797584",
   "metadata": {},
   "outputs": [],
   "source": [
    "class Datastream:\n",
    "    def __init__(self, input_str: str, marker_size, debug: bool = False):\n",
    "        self.input_str = input_str\n",
    "        self.marker_size = marker_size\n",
    "        self.debug = debug\n",
    "\n",
    "        self.message_len = len(self.input_str)\n",
    "\n",
    "        if self.debug:\n",
    "            print(self.input_str, \"\\n\")\n",
    "\n",
    "    def find_marker_position(self):\n",
    "        for i in range(self.message_len - self.marker_size + 1):\n",
    "            marker = self.input_str[i : i + self.marker_size]\n",
    "            if len(set(marker)) - len(marker) == 0:\n",
    "                return i + self.marker_size\n",
    "\n",
    "\n",
    "def solve_06(path: str, marker_size: int = 4, debug: bool = False):\n",
    "\n",
    "    input_txt = read_txt_file(path)\n",
    "\n",
    "    # Initialise initial stacks\n",
    "    s = Datastream(input_txt, marker_size=marker_size, debug=debug)\n",
    "    return s.find_marker_position()\n",
    "\n",
    "\n",
    "# Run some tests\n",
    "for x, res in {\"a\": 7, \"b\": 5, \"c\": 6, \"d\": 10, \"e\": 11}.items():\n",
    "    example_file = f\"inputs/06_example_{x}.txt\"\n",
    "    assert solve_06(example_file, debug=False) == res\n",
    "\n",
    "input_file = \"inputs/06_input.txt\"\n",
    "assert solve_06(input_file, debug=False) == 1282\n",
    "\n",
    "for x, res in {\"a\": 19, \"b\": 23, \"c\": 23, \"d\": 29, \"e\": 26}.items():\n",
    "    example_file = f\"inputs/06_example_{x}.txt\"\n",
    "    assert solve_06(example_file, marker_size=14, debug=False) == res"
   ]
  },
  {
   "cell_type": "markdown",
   "id": "76a0b14d-1183-499a-891c-67397e9be856",
   "metadata": {},
   "source": [
    "## Puzzle"
   ]
  },
  {
   "cell_type": "code",
   "execution_count": 3,
   "id": "c1824dbc-8a93-42b4-a730-51aba272f91a",
   "metadata": {},
   "outputs": [],
   "source": [
    "input_file = \"inputs/06_input.txt\""
   ]
  },
  {
   "cell_type": "code",
   "execution_count": 4,
   "id": "c4134dd4-2815-4d40-aaa4-ae1c94bd7b77",
   "metadata": {},
   "outputs": [
    {
     "data": {
      "text/plain": [
       "1282"
      ]
     },
     "execution_count": 4,
     "metadata": {},
     "output_type": "execute_result"
    }
   ],
   "source": [
    "solve_06(input_file)"
   ]
  },
  {
   "cell_type": "code",
   "execution_count": 5,
   "id": "cff08fd6-a215-486c-bcab-c4d79df40740",
   "metadata": {
    "tags": []
   },
   "outputs": [
    {
     "data": {
      "text/plain": [
       "3513"
      ]
     },
     "execution_count": 5,
     "metadata": {},
     "output_type": "execute_result"
    }
   ],
   "source": [
    "solve_06(input_file, marker_size=14, debug=False)"
   ]
  },
  {
   "cell_type": "code",
   "execution_count": null,
   "id": "ae673e9a-1041-44d1-90bc-8ac0ed2b3d99",
   "metadata": {},
   "outputs": [],
   "source": []
  }
 ],
 "metadata": {
  "kernelspec": {
   "display_name": "Python [conda env:py10]",
   "language": "python",
   "name": "conda-env-py10-py"
  },
  "language_info": {
   "codemirror_mode": {
    "name": "ipython",
    "version": 3
   },
   "file_extension": ".py",
   "mimetype": "text/x-python",
   "name": "python",
   "nbconvert_exporter": "python",
   "pygments_lexer": "ipython3",
   "version": "3.10.8"
  }
 },
 "nbformat": 4,
 "nbformat_minor": 5
}
