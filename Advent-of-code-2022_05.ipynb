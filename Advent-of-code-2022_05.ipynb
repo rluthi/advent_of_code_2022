{
 "cells": [
  {
   "cell_type": "markdown",
   "id": "522234a6-8699-46ea-8b23-1de590cf3dc8",
   "metadata": {},
   "source": [
    "# Advent of code 2022 - 05"
   ]
  },
  {
   "cell_type": "code",
   "execution_count": 1,
   "id": "b319a7ba-4a93-45d9-b2c6-d5aec1aff460",
   "metadata": {},
   "outputs": [],
   "source": [
    "import re\n",
    "\n",
    "from utils import read_txt_file"
   ]
  },
  {
   "cell_type": "markdown",
   "id": "62b20c63-5899-4ebb-aa81-e04e9866a305",
   "metadata": {},
   "source": [
    "## Code"
   ]
  },
  {
   "cell_type": "code",
   "execution_count": 2,
   "id": "0b9cde45-29f4-42b2-b525-2393a69bc3c5",
   "metadata": {},
   "outputs": [],
   "source": [
    "class Stacks:\n",
    "    def __init__(self, input_str: str, debug: bool = False, is_part_2: bool = False):\n",
    "        self.input_str = input_str\n",
    "        self.debug = debug\n",
    "        self.is_part_2 = is_part_2\n",
    "\n",
    "        if self.debug:\n",
    "            print(self.input_str, \"\\n\")\n",
    "\n",
    "        input_rows = self.input_str.split(\"\\n\")\n",
    "        self.location_stack_map = self._locate_stacks(input_rows[-1])\n",
    "        # print(f\"location_stack_map= {self.location_stack_map}\")\n",
    "        self.stacks = {x: [] for x in self.location_stack_map.values()}\n",
    "        # print(f\"stacks: {self.stacks}\")\n",
    "        for input_row in input_rows[-2::-1]:\n",
    "            for crate_stack_id, crate_name in self._locate_crates(input_row).items():\n",
    "                self.add_crates_to_stack(\n",
    "                    stack_id=crate_stack_id, crate_names=[crate_name]\n",
    "                )\n",
    "\n",
    "        if self.debug:\n",
    "            self.print_stacks()\n",
    "\n",
    "    def print_stacks(self):\n",
    "        for i, s in self.stacks.items():\n",
    "            print(i, s)\n",
    "\n",
    "        print()\n",
    "\n",
    "    def _locate_stacks(self, row_str):\n",
    "        re_pattern = re.compile(\"[1-9]\")\n",
    "        locations_stack = dict()\n",
    "        for match in re_pattern.finditer(row_str):\n",
    "            stack_id = match.group()\n",
    "            stack_location = match.start()\n",
    "            locations_stack[int(stack_location)] = int(stack_id)\n",
    "\n",
    "        return locations_stack\n",
    "\n",
    "    def _locate_crates(self, row_str):\n",
    "        re_pattern = re.compile(\"[A-Z]\")\n",
    "        stack_crates = dict()\n",
    "        for match in re_pattern.finditer(row_str):\n",
    "            crate_name = match.group()\n",
    "            crate_location = int(match.start())\n",
    "            crate_stack = self.location_stack_map[crate_location]\n",
    "            stack_crates[crate_stack] = crate_name\n",
    "        return stack_crates\n",
    "\n",
    "    def add_crates_to_stack(self, stack_id: str, crate_names: list[str]):\n",
    "        self.stacks[stack_id].extend(crate_names)\n",
    "        # print(f\"stacks: {self.stacks}\")\n",
    "\n",
    "    def grab_top_crates(self, stack_id: str, n: int):\n",
    "        grabbed_crates = []\n",
    "        for i in range(n):\n",
    "            grabbed_crates.append(self.stacks[stack_id].pop())\n",
    "        return list(reversed(grabbed_crates))\n",
    "\n",
    "    def move_crates(self, instruction: str):\n",
    "        n = int(re.search(\"(?<=move )[0-9]+\", instruction).group(0))\n",
    "        f = int(re.search(\"(?<=from )[0-9]+\", instruction).group(0))\n",
    "        t = int(re.search(\"(?<=to )[0-9]+\", instruction).group(0))\n",
    "        if self.debug:\n",
    "            print(f\"{instruction} --> n: '{n}', f: '{f}', t: '{t}'\")\n",
    "\n",
    "        if not self.is_part_2:\n",
    "            for i in range(n):\n",
    "                crate_names = self.grab_top_crates(stack_id=f, n=1)\n",
    "                self.add_crates_to_stack(stack_id=t, crate_names=crate_names)\n",
    "        else:\n",
    "            crate_names = self.grab_top_crates(stack_id=f, n=n)\n",
    "            self.add_crates_to_stack(stack_id=t, crate_names=crate_names)\n",
    "\n",
    "    def get_top_crates(self):\n",
    "        return \"\".join([s[-1] for s in self.stacks.values()])\n",
    "\n",
    "\n",
    "def solve_05(path: str, is_part_2: bool = False, debug: bool = False):\n",
    "    input_txt = read_txt_file(path)\n",
    "    stacks_str, instructions_str = input_txt.split(\"\\n\\n\")\n",
    "    instructions_str = instructions_str.split(\"\\n\")\n",
    "    try:\n",
    "        instructions_str.remove(\"\")\n",
    "    except ValueError:\n",
    "        pass\n",
    "\n",
    "    # Initialise initial stacks\n",
    "    s = Stacks(stacks_str, debug=debug, is_part_2=is_part_2)\n",
    "\n",
    "    # Move the crates\n",
    "    for instruction_str in instructions_str:\n",
    "        s.move_crates(instruction_str)\n",
    "        if debug:\n",
    "            s.print_stacks()\n",
    "\n",
    "    return s.get_top_crates()\n",
    "\n",
    "\n",
    "# Run some tests\n",
    "example_file = \"inputs/05_example.txt\"\n",
    "assert solve_05(example_file, debug=False) == \"CMZ\"\n",
    "assert solve_05(example_file, is_part_2=True, debug=False) == \"MCD\"\n",
    "\n",
    "input_file = \"inputs/05_input.txt\"\n",
    "assert solve_05(input_file, debug=False) == \"FCVRLMVQP\""
   ]
  },
  {
   "cell_type": "markdown",
   "id": "713b9bad-14b2-4282-a57d-beef8153de8f",
   "metadata": {},
   "source": [
    "## Example"
   ]
  },
  {
   "cell_type": "code",
   "execution_count": 3,
   "id": "8798f164-95bf-4bba-bcbc-bbdce698c791",
   "metadata": {},
   "outputs": [],
   "source": [
    "example_file = \"inputs/05_example.txt\""
   ]
  },
  {
   "cell_type": "code",
   "execution_count": 4,
   "id": "97763a90-e4f8-45e6-be6c-4d3f2db5a2a4",
   "metadata": {},
   "outputs": [
    {
     "data": {
      "text/plain": [
       "'CMZ'"
      ]
     },
     "execution_count": 4,
     "metadata": {},
     "output_type": "execute_result"
    }
   ],
   "source": [
    "solve_05(example_file)"
   ]
  },
  {
   "cell_type": "code",
   "execution_count": 5,
   "id": "a6d4ed37-265c-4d2b-8cb9-5ccc0dde4ae7",
   "metadata": {},
   "outputs": [
    {
     "data": {
      "text/plain": [
       "'MCD'"
      ]
     },
     "execution_count": 5,
     "metadata": {},
     "output_type": "execute_result"
    }
   ],
   "source": [
    "solve_05(example_file, is_part_2=True, debug=False)"
   ]
  },
  {
   "cell_type": "markdown",
   "id": "edea2f5b-c567-4347-bcd2-7cc96db726f7",
   "metadata": {},
   "source": [
    "## Puzzle"
   ]
  },
  {
   "cell_type": "code",
   "execution_count": 6,
   "id": "822bd6a6-3f82-4045-b8bd-bc49f5e52311",
   "metadata": {},
   "outputs": [],
   "source": [
    "input_file = \"inputs/05_input.txt\""
   ]
  },
  {
   "cell_type": "code",
   "execution_count": 7,
   "id": "a9bed014-b1c7-462f-adc3-21180ea7bf60",
   "metadata": {},
   "outputs": [
    {
     "data": {
      "text/plain": [
       "'FCVRLMVQP'"
      ]
     },
     "execution_count": 7,
     "metadata": {},
     "output_type": "execute_result"
    }
   ],
   "source": [
    "solve_05(input_file)"
   ]
  },
  {
   "cell_type": "code",
   "execution_count": 8,
   "id": "c31889d6-71d6-488c-b368-8f8c16725ba2",
   "metadata": {},
   "outputs": [
    {
     "data": {
      "text/plain": [
       "'RWLWGJGFD'"
      ]
     },
     "execution_count": 8,
     "metadata": {},
     "output_type": "execute_result"
    }
   ],
   "source": [
    "solve_05(input_file, is_part_2=True, debug=False)"
   ]
  }
 ],
 "metadata": {
  "kernelspec": {
   "display_name": "Python [conda env:py10]",
   "language": "python",
   "name": "conda-env-py10-py"
  },
  "language_info": {
   "codemirror_mode": {
    "name": "ipython",
    "version": 3
   },
   "file_extension": ".py",
   "mimetype": "text/x-python",
   "name": "python",
   "nbconvert_exporter": "python",
   "pygments_lexer": "ipython3",
   "version": "3.10.8"
  }
 },
 "nbformat": 4,
 "nbformat_minor": 5
}
